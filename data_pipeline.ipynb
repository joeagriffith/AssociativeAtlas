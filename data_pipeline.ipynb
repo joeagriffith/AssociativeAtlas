{
 "cells": [
  {
   "cell_type": "code",
   "execution_count": null,
   "metadata": {},
   "outputs": [],
   "source": [
    "import csv\n",
    "import numpy as np\n",
    "import torch\n",
    "import matplotlib.pyplot as plt\n",
    "import os\n",
    "from tqdm import tqdm"
   ]
  },
  {
   "cell_type": "code",
   "execution_count": null,
   "metadata": {},
   "outputs": [],
   "source": [
    "csv_data = list(csv.reader(open('../Datasets/MindBigData-Imagenet/MindBigData_Imagenet_Insight_n00007846_112420_1_1479.csv', 'r')))\n",
    "\n",
    "# data = np.zeros((len(csv_data), len(csv_data[0])-1))\n",
    "# for i in range(len(data)):\n",
    "#     data[i] = csv_data[i][1:]\n",
    "data = np.array(csv_data)[:,1:].astype(float)\n",
    "\n",
    "# plot \n",
    "plt.figure(figsize=(10, 7))\n",
    "for i in range(len(data)):\n",
    "    plt.plot(data[i], label='Image '+str(i))\n",
    "plt.legend()\n",
    "plt.title('ImageNet Insight')\n",
    "plt.xlabel('Features')\n",
    "plt.ylabel('Values')\n",
    "plt.show()"
   ]
  },
  {
   "cell_type": "code",
   "execution_count": null,
   "metadata": {},
   "outputs": [],
   "source": [
    "path = '../Datasets/MindBigData-Imagenet'\n",
    "len(os.listdir(path))\n",
    "data = []\n",
    "for item in tqdm(os.listdir(path)):\n",
    "    path_i = os.path.join(path, item)\n",
    "    csv_data = list(csv.reader(open(path_i, 'r')))\n",
    "    np_data = np.array(csv_data)[:,1:].astype(float)\n",
    "    data.append(np_data)\n",
    "    # close file\n",
    "    csv_data = None\n",
    "data = np.array(data)\n",
    "data.shape"
   ]
  }
 ],
 "metadata": {
  "language_info": {
   "name": "python"
  }
 },
 "nbformat": 4,
 "nbformat_minor": 2
}
