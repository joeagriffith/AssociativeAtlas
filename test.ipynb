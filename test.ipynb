{
 "cells": [
  {
   "cell_type": "code",
   "execution_count": 1,
   "metadata": {},
   "outputs": [
    {
     "name": "stderr",
     "output_type": "stream",
     "text": [
      "c:\\Users\\joeag\\AppData\\Local\\Programs\\Python\\Python310\\lib\\site-packages\\tqdm\\auto.py:22: TqdmWarning: IProgress not found. Please update jupyter and ipywidgets. See https://ipywidgets.readthedocs.io/en/stable/user_install.html\n",
      "  from .autonotebook import tqdm as notebook_tqdm\n"
     ]
    },
    {
     "name": "stdout",
     "output_type": "stream",
     "text": [
      "torch.float32\n"
     ]
    }
   ],
   "source": [
    "from dataset import SpectrogramTripletDataset\n",
    "import numpy as np\n",
    "import torch\n",
    "\n",
    "device = torch.device('cuda' if torch.cuda.is_available() else 'cpu')\n",
    "data = np.load('spectrograms.npy', allow_pickle=True)\n",
    "data = torch.tensor(data, dtype=torch.float32).to(device)\n",
    "labels = np.load('classes.npy', allow_pickle=True)\n",
    "labels = torch.tensor(labels, dtype=torch.long).to(device)\n",
    "train_dataset = SpectrogramTripletDataset(data, labels)\n",
    "val_dataset = train_dataset.give_val_set(0.2)\n",
    "\n",
    "batch_size = 32\n",
    "train_loader = torch.utils.data.DataLoader(train_dataset, batch_size=batch_size, shuffle=True)\n",
    "val_loader = torch.utils.data.DataLoader(val_dataset, batch_size=batch_size, shuffle=True)\n",
    "\n",
    "batch = next(iter(train_loader))\n",
    "print(batch[0].dtype)\n",
    "\n",
    "# idx = torch.randint(0, len(train_dataset), (1,)).item()\n",
    "# im1, im2, im3 = train_dataset[idx]\n",
    "# print(im1.shape, im2.shape, im3.shape)"
   ]
  },
  {
   "cell_type": "code",
   "execution_count": 2,
   "metadata": {},
   "outputs": [
    {
     "data": {
      "text/plain": [
       "tensor(97)"
      ]
     },
     "execution_count": 2,
     "metadata": {},
     "output_type": "execute_result"
    }
   ],
   "source": [
    "labels = torch.randint(0, 10, (100,))\n",
    "possible_idxs = torch.where(labels == 7)[0]\n",
    "same_idx = possible_idxs[torch.randint(0, len(possible_idxs), (1,)).item()]\n",
    "same_idx"
   ]
  },
  {
   "cell_type": "code",
   "execution_count": 3,
   "metadata": {},
   "outputs": [
    {
     "data": {
      "text/plain": [
       "torch.Size([5, 50, 50])"
      ]
     },
     "execution_count": 3,
     "metadata": {},
     "output_type": "execute_result"
    }
   ],
   "source": [
    "x = torch.randn(10, 5, 50, 50)\n",
    "x[0].shape"
   ]
  },
  {
   "cell_type": "code",
   "execution_count": 6,
   "metadata": {},
   "outputs": [
    {
     "name": "stdout",
     "output_type": "stream",
     "text": [
      "embedded inp shape: torch.Size([32, 50, 256])\n",
      "embedded inp shape: torch.Size([32, 50, 256])\n",
      "embedded inp shape: torch.Size([32, 50, 256])\n"
     ]
    },
    {
     "data": {
      "text/plain": [
       "(torch.Size([32, 128]), torch.Size([32, 128]), torch.Size([32, 128]))"
      ]
     },
     "execution_count": 6,
     "metadata": {},
     "output_type": "execute_result"
    }
   ],
   "source": [
    "import torch\n",
    "import torch.nn as nn\n",
    "from model import Transformer\n",
    "import numpy as np\n",
    "device = torch.device('cuda' if torch.cuda.is_available() else 'cpu')\n",
    "\n",
    "model = Transformer(256, 128).to(device)\n",
    "x = torch.randn(32, 5, 50, 50).to(device)\n",
    "y = torch.randn(32, 5, 50, 50).to(device)\n",
    "z = torch.randn(32, 5, 50, 50).to(device)\n",
    "model(x).shape, model(y).shape, model(z).shape"
   ]
  },
  {
   "cell_type": "code",
   "execution_count": 11,
   "metadata": {},
   "outputs": [
    {
     "name": "stdout",
     "output_type": "stream",
     "text": [
      "embedded inp shape: torch.Size([32, 50, 256])\n",
      "torch.Size([32, 128]) torch.Size([32, 5, 50, 50]) torch.Size([32, 5, 50, 50])\n",
      "embedded inp shape: torch.Size([32, 50, 256])\n",
      "torch.Size([32, 128]) torch.Size([32, 5, 50, 50]) torch.Size([32, 5, 50, 50])\n",
      "embedded inp shape: torch.Size([32, 50, 256])\n",
      "torch.Size([32, 128]) torch.Size([32, 5, 50, 50]) torch.Size([32, 5, 50, 50])\n",
      "embedded inp shape: torch.Size([32, 50, 256])\n",
      "torch.Size([32, 128]) torch.Size([32, 5, 50, 50]) torch.Size([32, 5, 50, 50])\n",
      "embedded inp shape: torch.Size([32, 50, 256])\n",
      "torch.Size([32, 128]) torch.Size([32, 5, 50, 50]) torch.Size([32, 5, 50, 50])\n",
      "embedded inp shape: torch.Size([32, 50, 256])\n",
      "torch.Size([32, 128]) torch.Size([32, 5, 50, 50]) torch.Size([32, 5, 50, 50])\n",
      "embedded inp shape: torch.Size([32, 50, 256])\n",
      "torch.Size([32, 128]) torch.Size([32, 5, 50, 50]) torch.Size([32, 5, 50, 50])\n",
      "embedded inp shape: torch.Size([32, 50, 256])\n",
      "torch.Size([32, 128]) torch.Size([32, 5, 50, 50]) torch.Size([32, 5, 50, 50])\n",
      "embedded inp shape: torch.Size([32, 50, 256])\n",
      "torch.Size([32, 128]) torch.Size([32, 5, 50, 50]) torch.Size([32, 5, 50, 50])\n",
      "embedded inp shape: torch.Size([32, 50, 256])\n",
      "torch.Size([32, 128]) torch.Size([32, 5, 50, 50]) torch.Size([32, 5, 50, 50])\n",
      "embedded inp shape: torch.Size([32, 50, 256])\n",
      "torch.Size([32, 128]) torch.Size([32, 5, 50, 50]) torch.Size([32, 5, 50, 50])\n"
     ]
    },
    {
     "ename": "KeyboardInterrupt",
     "evalue": "",
     "output_type": "error",
     "traceback": [
      "\u001b[1;31m---------------------------------------------------------------------------\u001b[0m",
      "\u001b[1;31mKeyboardInterrupt\u001b[0m                         Traceback (most recent call last)",
      "\u001b[1;32mc:\\Users\\joeag\\Documents\\AssociativeAtlas\\test.ipynb Cell 5\u001b[0m in \u001b[0;36m1\n\u001b[0;32m     <a href='vscode-notebook-cell:/c%3A/Users/joeag/Documents/AssociativeAtlas/test.ipynb#X16sZmlsZQ%3D%3D?line=14'>15</a>\u001b[0m trainloader \u001b[39m=\u001b[39m torch\u001b[39m.\u001b[39mutils\u001b[39m.\u001b[39mdata\u001b[39m.\u001b[39mDataLoader(train_dataset, batch_size\u001b[39m=\u001b[39m\u001b[39m32\u001b[39m, shuffle\u001b[39m=\u001b[39m\u001b[39mTrue\u001b[39;00m)\n\u001b[0;32m     <a href='vscode-notebook-cell:/c%3A/Users/joeag/Documents/AssociativeAtlas/test.ipynb#X16sZmlsZQ%3D%3D?line=15'>16</a>\u001b[0m valloader \u001b[39m=\u001b[39m torch\u001b[39m.\u001b[39mutils\u001b[39m.\u001b[39mdata\u001b[39m.\u001b[39mDataLoader(val_dataset, batch_size\u001b[39m=\u001b[39m\u001b[39m32\u001b[39m, shuffle\u001b[39m=\u001b[39m\u001b[39mTrue\u001b[39;00m)\n\u001b[1;32m---> <a href='vscode-notebook-cell:/c%3A/Users/joeag/Documents/AssociativeAtlas/test.ipynb#X16sZmlsZQ%3D%3D?line=17'>18</a>\u001b[0m \u001b[39mfor\u001b[39;00m batch \u001b[39min\u001b[39;00m trainloader:\n\u001b[0;32m     <a href='vscode-notebook-cell:/c%3A/Users/joeag/Documents/AssociativeAtlas/test.ipynb#X16sZmlsZQ%3D%3D?line=18'>19</a>\u001b[0m     x, y, z \u001b[39m=\u001b[39m batch\n\u001b[0;32m     <a href='vscode-notebook-cell:/c%3A/Users/joeag/Documents/AssociativeAtlas/test.ipynb#X16sZmlsZQ%3D%3D?line=19'>20</a>\u001b[0m     x \u001b[39m=\u001b[39m model(x)\n",
      "File \u001b[1;32mc:\\Users\\joeag\\AppData\\Local\\Programs\\Python\\Python310\\lib\\site-packages\\torch\\utils\\data\\dataloader.py:681\u001b[0m, in \u001b[0;36m_BaseDataLoaderIter.__next__\u001b[1;34m(self)\u001b[0m\n\u001b[0;32m    678\u001b[0m \u001b[39mif\u001b[39;00m \u001b[39mself\u001b[39m\u001b[39m.\u001b[39m_sampler_iter \u001b[39mis\u001b[39;00m \u001b[39mNone\u001b[39;00m:\n\u001b[0;32m    679\u001b[0m     \u001b[39m# TODO(https://github.com/pytorch/pytorch/issues/76750)\u001b[39;00m\n\u001b[0;32m    680\u001b[0m     \u001b[39mself\u001b[39m\u001b[39m.\u001b[39m_reset()  \u001b[39m# type: ignore[call-arg]\u001b[39;00m\n\u001b[1;32m--> 681\u001b[0m data \u001b[39m=\u001b[39m \u001b[39mself\u001b[39;49m\u001b[39m.\u001b[39;49m_next_data()\n\u001b[0;32m    682\u001b[0m \u001b[39mself\u001b[39m\u001b[39m.\u001b[39m_num_yielded \u001b[39m+\u001b[39m\u001b[39m=\u001b[39m \u001b[39m1\u001b[39m\n\u001b[0;32m    683\u001b[0m \u001b[39mif\u001b[39;00m \u001b[39mself\u001b[39m\u001b[39m.\u001b[39m_dataset_kind \u001b[39m==\u001b[39m _DatasetKind\u001b[39m.\u001b[39mIterable \u001b[39mand\u001b[39;00m \\\n\u001b[0;32m    684\u001b[0m         \u001b[39mself\u001b[39m\u001b[39m.\u001b[39m_IterableDataset_len_called \u001b[39mis\u001b[39;00m \u001b[39mnot\u001b[39;00m \u001b[39mNone\u001b[39;00m \u001b[39mand\u001b[39;00m \\\n\u001b[0;32m    685\u001b[0m         \u001b[39mself\u001b[39m\u001b[39m.\u001b[39m_num_yielded \u001b[39m>\u001b[39m \u001b[39mself\u001b[39m\u001b[39m.\u001b[39m_IterableDataset_len_called:\n",
      "File \u001b[1;32mc:\\Users\\joeag\\AppData\\Local\\Programs\\Python\\Python310\\lib\\site-packages\\torch\\utils\\data\\dataloader.py:721\u001b[0m, in \u001b[0;36m_SingleProcessDataLoaderIter._next_data\u001b[1;34m(self)\u001b[0m\n\u001b[0;32m    719\u001b[0m \u001b[39mdef\u001b[39;00m \u001b[39m_next_data\u001b[39m(\u001b[39mself\u001b[39m):\n\u001b[0;32m    720\u001b[0m     index \u001b[39m=\u001b[39m \u001b[39mself\u001b[39m\u001b[39m.\u001b[39m_next_index()  \u001b[39m# may raise StopIteration\u001b[39;00m\n\u001b[1;32m--> 721\u001b[0m     data \u001b[39m=\u001b[39m \u001b[39mself\u001b[39;49m\u001b[39m.\u001b[39;49m_dataset_fetcher\u001b[39m.\u001b[39;49mfetch(index)  \u001b[39m# may raise StopIteration\u001b[39;00m\n\u001b[0;32m    722\u001b[0m     \u001b[39mif\u001b[39;00m \u001b[39mself\u001b[39m\u001b[39m.\u001b[39m_pin_memory:\n\u001b[0;32m    723\u001b[0m         data \u001b[39m=\u001b[39m _utils\u001b[39m.\u001b[39mpin_memory\u001b[39m.\u001b[39mpin_memory(data, \u001b[39mself\u001b[39m\u001b[39m.\u001b[39m_pin_memory_device)\n",
      "File \u001b[1;32mc:\\Users\\joeag\\AppData\\Local\\Programs\\Python\\Python310\\lib\\site-packages\\torch\\utils\\data\\_utils\\fetch.py:49\u001b[0m, in \u001b[0;36m_MapDatasetFetcher.fetch\u001b[1;34m(self, possibly_batched_index)\u001b[0m\n\u001b[0;32m     47\u001b[0m \u001b[39mdef\u001b[39;00m \u001b[39mfetch\u001b[39m(\u001b[39mself\u001b[39m, possibly_batched_index):\n\u001b[0;32m     48\u001b[0m     \u001b[39mif\u001b[39;00m \u001b[39mself\u001b[39m\u001b[39m.\u001b[39mauto_collation:\n\u001b[1;32m---> 49\u001b[0m         data \u001b[39m=\u001b[39m [\u001b[39mself\u001b[39m\u001b[39m.\u001b[39mdataset[idx] \u001b[39mfor\u001b[39;00m idx \u001b[39min\u001b[39;00m possibly_batched_index]\n\u001b[0;32m     50\u001b[0m     \u001b[39melse\u001b[39;00m:\n\u001b[0;32m     51\u001b[0m         data \u001b[39m=\u001b[39m \u001b[39mself\u001b[39m\u001b[39m.\u001b[39mdataset[possibly_batched_index]\n",
      "File \u001b[1;32mc:\\Users\\joeag\\AppData\\Local\\Programs\\Python\\Python310\\lib\\site-packages\\torch\\utils\\data\\_utils\\fetch.py:49\u001b[0m, in \u001b[0;36m<listcomp>\u001b[1;34m(.0)\u001b[0m\n\u001b[0;32m     47\u001b[0m \u001b[39mdef\u001b[39;00m \u001b[39mfetch\u001b[39m(\u001b[39mself\u001b[39m, possibly_batched_index):\n\u001b[0;32m     48\u001b[0m     \u001b[39mif\u001b[39;00m \u001b[39mself\u001b[39m\u001b[39m.\u001b[39mauto_collation:\n\u001b[1;32m---> 49\u001b[0m         data \u001b[39m=\u001b[39m [\u001b[39mself\u001b[39;49m\u001b[39m.\u001b[39;49mdataset[idx] \u001b[39mfor\u001b[39;00m idx \u001b[39min\u001b[39;00m possibly_batched_index]\n\u001b[0;32m     50\u001b[0m     \u001b[39melse\u001b[39;00m:\n\u001b[0;32m     51\u001b[0m         data \u001b[39m=\u001b[39m \u001b[39mself\u001b[39m\u001b[39m.\u001b[39mdataset[possibly_batched_index]\n",
      "File \u001b[1;32mc:\\Users\\joeag\\Documents\\AssociativeAtlas\\dataset.py:20\u001b[0m, in \u001b[0;36mSpectrogramTripletDataset.__getitem__\u001b[1;34m(self, idx)\u001b[0m\n\u001b[0;32m     16\u001b[0m \u001b[39mdef\u001b[39;00m \u001b[39m__getitem__\u001b[39m(\u001b[39mself\u001b[39m, idx):\n\u001b[0;32m     17\u001b[0m \n\u001b[0;32m     18\u001b[0m     \u001b[39m# get another spectrogram from same class\u001b[39;00m\n\u001b[0;32m     19\u001b[0m     class1 \u001b[39m=\u001b[39m \u001b[39mself\u001b[39m\u001b[39m.\u001b[39mlabels[idx]\n\u001b[1;32m---> 20\u001b[0m     possible_idxs \u001b[39m=\u001b[39m torch\u001b[39m.\u001b[39;49mwhere(\u001b[39mself\u001b[39;49m\u001b[39m.\u001b[39;49mlabels \u001b[39m==\u001b[39;49m class1)[\u001b[39m0\u001b[39m]\n\u001b[0;32m     21\u001b[0m     same_idx \u001b[39m=\u001b[39m possible_idxs[torch\u001b[39m.\u001b[39mrandint(\u001b[39m0\u001b[39m, \u001b[39mlen\u001b[39m(possible_idxs), (\u001b[39m1\u001b[39m,))\u001b[39m.\u001b[39mitem()]\u001b[39m.\u001b[39mitem()\n\u001b[0;32m     22\u001b[0m     i \u001b[39m=\u001b[39m \u001b[39m0\u001b[39m\n",
      "\u001b[1;31mKeyboardInterrupt\u001b[0m: "
     ]
    }
   ],
   "source": [
    "data = np.load('spectrograms.npy', allow_pickle=True)\n",
    "data = torch.tensor(data, dtype=torch.float32).to(device)\n",
    "labels = np.load('classes.npy', allow_pickle=True)\n",
    "labels = torch.tensor(labels, dtype=torch.long).to(device)\n",
    "config = {\n",
    "    'num_features': 128,\n",
    "    'split_ratio': 0.2\n",
    "}\n",
    "train_dataset = SpectrogramTripletDataset(data, labels)\n",
    "val_dataset = train_dataset.give_val_set(config['split_ratio'])\n",
    "\n",
    "# model = CNN(config['num_features']).to(device)\n",
    "model = Transformer(config['num_features']*2, config['num_features']).to(device)\n",
    "\n",
    "trainloader = torch.utils.data.DataLoader(train_dataset, batch_size=32, shuffle=True)\n",
    "valloader = torch.utils.data.DataLoader(val_dataset, batch_size=32, shuffle=True)\n",
    "\n",
    "for batch in trainloader:\n",
    "    x, y, z = batch\n",
    "    x = model(x)\n",
    "    print(x.shape, y.shape, z.shape)"
   ]
  },
  {
   "cell_type": "code",
   "execution_count": 3,
   "metadata": {},
   "outputs": [
    {
     "data": {
      "text/plain": [
       "torch.Size([32, 128, 1, 46])"
      ]
     },
     "execution_count": 3,
     "metadata": {},
     "output_type": "execute_result"
    }
   ],
   "source": [
    "import torch\n",
    "import torch.nn as nn\n",
    "layer = nn.Conv2d(5, 128, (50, 5), 1, 0)\n",
    "x = torch.randn(32, 5, 50, 50)\n",
    "layer(x).shape"
   ]
  },
  {
   "cell_type": "code",
   "execution_count": 15,
   "metadata": {},
   "outputs": [
    {
     "data": {
      "text/plain": [
       "torch.Size([32, 128])"
      ]
     },
     "execution_count": 15,
     "metadata": {},
     "output_type": "execute_result"
    }
   ],
   "source": [
    "device= torch.device('cuda' if torch.cuda.is_available() else 'cpu')\n",
    "class ConvBlock(nn.Module):\n",
    "    def __init__(self, in_channels, out_channels, kernel_size, stride, padding):\n",
    "        super(ConvBlock, self).__init__()\n",
    "        self.conv = nn.Conv2d(in_channels, out_channels, kernel_size=kernel_size, stride=stride, padding=padding)\n",
    "        self.bn = nn.BatchNorm2d(out_channels)\n",
    "        self.relu = nn.ReLU()\n",
    "\n",
    "    def forward(self, x):\n",
    "        return self.relu(self.bn(self.conv(x)))\n",
    "\n",
    "class CNN(nn.Module):\n",
    "    def __init__(self, num_features=8, out_channels=128):\n",
    "        super().__init__()\n",
    "        self.conv_blocks = nn.ModuleList([\n",
    "            ConvBlock(5, num_features, (50, 5), 5, 0),\n",
    "            ConvBlock(num_features, num_features*2, (1,3), 1, 0),\n",
    "            ConvBlock(num_features*2, num_features*4, (1,3), 1, 0),\n",
    "            ConvBlock(num_features*4, num_features*4, (1,3), 1, 0),\n",
    "            ConvBlock(num_features*4, num_features*4, (1,4), 1, 0),\n",
    "        ])\n",
    "\n",
    "        self.lin_layers = nn.Sequential(\n",
    "            nn.Linear(num_features*4, out_channels),\n",
    "            nn.ReLU(),\n",
    "            nn.Linear(out_channels, out_channels),\n",
    "        )\n",
    "\n",
    "    def forward(self, x):\n",
    "        for block in self.conv_blocks:\n",
    "            x = block(x)\n",
    "        x = x.flatten(1)\n",
    "        x = self.lin_layers(x)\n",
    "        return x\n",
    "\n",
    "model = CNN(16, 128).to(device)\n",
    "x = torch.randn(32, 5, 50, 50).to(device)\n",
    "model(x).shape"
   ]
  },
  {
   "cell_type": "code",
   "execution_count": 16,
   "metadata": {},
   "outputs": [
    {
     "data": {
      "text/plain": [
       "torch.Size([32, 128])"
      ]
     },
     "execution_count": 16,
     "metadata": {},
     "output_type": "execute_result"
    }
   ],
   "source": [
    "x = torch.randn(32, 5, 50, 50).to(device)\n",
    "model(x).shape"
   ]
  },
  {
   "cell_type": "code",
   "execution_count": null,
   "metadata": {},
   "outputs": [],
   "source": []
  }
 ],
 "metadata": {
  "kernelspec": {
   "display_name": "Python 3",
   "language": "python",
   "name": "python3"
  },
  "language_info": {
   "codemirror_mode": {
    "name": "ipython",
    "version": 3
   },
   "file_extension": ".py",
   "mimetype": "text/x-python",
   "name": "python",
   "nbconvert_exporter": "python",
   "pygments_lexer": "ipython3",
   "version": "3.10.7"
  }
 },
 "nbformat": 4,
 "nbformat_minor": 2
}
