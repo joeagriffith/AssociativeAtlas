{
 "cells": [
  {
   "cell_type": "code",
   "execution_count": 2,
   "metadata": {},
   "outputs": [
    {
     "name": "stdout",
     "output_type": "stream",
     "text": [
      "torch.float32\n"
     ]
    }
   ],
   "source": [
    "from dataset import SpectrogramTripletDataset\n",
    "import numpy as np\n",
    "import torch\n",
    "\n",
    "device = torch.device('cuda' if torch.cuda.is_available() else 'cpu')\n",
    "data = np.load('spectrograms.npy', allow_pickle=True)\n",
    "data = torch.tensor(data, dtype=torch.float32).to(device)\n",
    "labels = np.load('classes.npy', allow_pickle=True)\n",
    "labels = torch.tensor(labels, dtype=torch.long).to(device)\n",
    "train_dataset = SpectrogramTripletDataset(data, labels)\n",
    "val_dataset = train_dataset.give_val_set(0.2)\n",
    "\n",
    "batch_size = 32\n",
    "train_loader = torch.utils.data.DataLoader(train_dataset, batch_size=batch_size, shuffle=True)\n",
    "val_loader = torch.utils.data.DataLoader(val_dataset, batch_size=batch_size, shuffle=True)\n",
    "\n",
    "batch = next(iter(train_loader))\n",
    "print(batch[0].dtype)\n",
    "\n",
    "# idx = torch.randint(0, len(train_dataset), (1,)).item()\n",
    "# im1, im2, im3 = train_dataset[idx]\n",
    "# print(im1.shape, im2.shape, im3.shape)"
   ]
  },
  {
   "cell_type": "code",
   "execution_count": 9,
   "metadata": {},
   "outputs": [
    {
     "data": {
      "text/plain": [
       "tensor(50)"
      ]
     },
     "execution_count": 9,
     "metadata": {},
     "output_type": "execute_result"
    }
   ],
   "source": [
    "labels = torch.randint(0, 10, (100,))\n",
    "possible_idxs = torch.where(labels == 7)[0]\n",
    "same_idx = possible_idxs[torch.randint(0, len(possible_idxs), (1,)).item()]\n",
    "same_idx"
   ]
  },
  {
   "cell_type": "code",
   "execution_count": 2,
   "metadata": {},
   "outputs": [
    {
     "data": {
      "text/plain": [
       "torch.Size([5, 50, 50])"
      ]
     },
     "execution_count": 2,
     "metadata": {},
     "output_type": "execute_result"
    }
   ],
   "source": [
    "x = torch.randn(10, 5, 50, 50)\n",
    "x[0].shape"
   ]
  }
 ],
 "metadata": {
  "kernelspec": {
   "display_name": "Python 3",
   "language": "python",
   "name": "python3"
  },
  "language_info": {
   "codemirror_mode": {
    "name": "ipython",
    "version": 3
   },
   "file_extension": ".py",
   "mimetype": "text/x-python",
   "name": "python",
   "nbconvert_exporter": "python",
   "pygments_lexer": "ipython3",
   "version": "3.10.7"
  }
 },
 "nbformat": 4,
 "nbformat_minor": 2
}
